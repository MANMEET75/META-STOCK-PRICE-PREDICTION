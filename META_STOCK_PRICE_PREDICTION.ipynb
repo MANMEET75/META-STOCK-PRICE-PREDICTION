{
 "cells": [
  {
   "cell_type": "markdown",
   "id": "082e148e",
   "metadata": {},
   "source": [
    "# Part 1 - Data Preprocessing"
   ]
  },
  {
   "cell_type": "markdown",
   "id": "cc0b1349",
   "metadata": {},
   "source": [
    "## Importing the libraries"
   ]
  },
  {
   "cell_type": "code",
   "execution_count": 35,
   "id": "49cd9732",
   "metadata": {},
   "outputs": [],
   "source": [
    "import numpy as np\n",
    "import matplotlib.pyplot as plt\n",
    "import pandas as pd"
   ]
  },
  {
   "cell_type": "markdown",
   "id": "75ae90da",
   "metadata": {},
   "source": [
    "## Importing the training set"
   ]
  },
  {
   "cell_type": "code",
   "execution_count": 2,
   "id": "f89989fe",
   "metadata": {},
   "outputs": [],
   "source": [
    "dataset_train = pd.read_csv('META_TRAINING_DATA.csv')\n",
    "training_set = dataset_train.iloc[:, 1:2].values"
   ]
  },
  {
   "cell_type": "code",
   "execution_count": 3,
   "id": "b9ac8d41",
   "metadata": {},
   "outputs": [
    {
     "data": {
      "text/plain": [
       "(2545, 7)"
      ]
     },
     "execution_count": 3,
     "metadata": {},
     "output_type": "execute_result"
    }
   ],
   "source": [
    "dataset_train.shape"
   ]
  },
  {
   "cell_type": "markdown",
   "id": "b4866114",
   "metadata": {},
   "source": [
    "## Taking care of missing values if present inside the dataset"
   ]
  },
  {
   "cell_type": "code",
   "execution_count": 4,
   "id": "390b3e06",
   "metadata": {},
   "outputs": [
    {
     "data": {
      "text/plain": [
       "Date         0\n",
       "Open         0\n",
       "High         0\n",
       "Low          0\n",
       "Close        0\n",
       "Adj Close    0\n",
       "Volume       0\n",
       "dtype: int64"
      ]
     },
     "execution_count": 4,
     "metadata": {},
     "output_type": "execute_result"
    }
   ],
   "source": [
    "dataset_train.isnull().sum()"
   ]
  },
  {
   "cell_type": "markdown",
   "id": "5b803f7c",
   "metadata": {},
   "source": [
    "## Feature Scaling"
   ]
  },
  {
   "cell_type": "code",
   "execution_count": 5,
   "id": "b4126e69",
   "metadata": {},
   "outputs": [],
   "source": [
    "from sklearn.preprocessing import MinMaxScaler\n",
    "sc = MinMaxScaler(feature_range = (0, 1))\n",
    "training_set_scaled = sc.fit_transform(training_set)"
   ]
  },
  {
   "cell_type": "markdown",
   "id": "9e671202",
   "metadata": {},
   "source": [
    "## Creating a data structure with 120 timesteps and 1 output\n",
    "1 month= 20 financial day |\n",
    "3 month= 60 financial day |\n",
    "6 month= 120 financial day\n",
    "\n"
   ]
  },
  {
   "cell_type": "code",
   "execution_count": 6,
   "id": "e366d81c",
   "metadata": {},
   "outputs": [],
   "source": [
    "X_train = []\n",
    "y_train = []\n",
    "for i in range(120, 2545):\n",
    "    X_train.append(training_set_scaled[i-120:i, 0])\n",
    "    y_train.append(training_set_scaled[i, 0])\n",
    "X_train, y_train = np.array(X_train), np.array(y_train)"
   ]
  },
  {
   "cell_type": "markdown",
   "id": "5bfe9914",
   "metadata": {},
   "source": [
    "## Reshaping"
   ]
  },
  {
   "cell_type": "code",
   "execution_count": 7,
   "id": "8d954d63",
   "metadata": {},
   "outputs": [],
   "source": [
    "X_train = np.reshape(X_train, (X_train.shape[0], X_train.shape[1], 1))"
   ]
  },
  {
   "cell_type": "markdown",
   "id": "2e95e8b7",
   "metadata": {},
   "source": [
    "## Part 2 - Building and Training the RNN"
   ]
  },
  {
   "cell_type": "markdown",
   "id": "289a3701",
   "metadata": {},
   "source": [
    "## Importing the Keras libraries and packages"
   ]
  },
  {
   "cell_type": "code",
   "execution_count": 8,
   "id": "df32be01",
   "metadata": {},
   "outputs": [],
   "source": [
    "from keras.models import Sequential\n",
    "from keras.layers import Dense\n",
    "from keras.layers import LSTM\n",
    "from keras.layers import Dropout"
   ]
  },
  {
   "cell_type": "markdown",
   "id": "50c2cfca",
   "metadata": {},
   "source": [
    "## Initialising the RNN"
   ]
  },
  {
   "cell_type": "code",
   "execution_count": 9,
   "id": "5c6423a5",
   "metadata": {},
   "outputs": [],
   "source": [
    "regressor = Sequential()"
   ]
  },
  {
   "cell_type": "markdown",
   "id": "b558f91c",
   "metadata": {},
   "source": [
    "## Adding the first LSTM layer and some Dropout regularisation"
   ]
  },
  {
   "cell_type": "code",
   "execution_count": 10,
   "id": "eea1f3bb",
   "metadata": {},
   "outputs": [],
   "source": [
    "regressor.add(LSTM(units = 100, return_sequences = True, input_shape = (X_train.shape[1], 1)))\n",
    "regressor.add(Dropout(0.2))"
   ]
  },
  {
   "cell_type": "markdown",
   "id": "d0460458",
   "metadata": {},
   "source": [
    "## Adding the second LSTM layer and some Dropout regularisation"
   ]
  },
  {
   "cell_type": "code",
   "execution_count": 11,
   "id": "182c8d7f",
   "metadata": {},
   "outputs": [],
   "source": [
    "regressor.add(LSTM(units = 100, return_sequences = True))\n",
    "regressor.add(Dropout(0.2))"
   ]
  },
  {
   "cell_type": "markdown",
   "id": "3bba5b58",
   "metadata": {},
   "source": [
    "## Adding the third LSTM layer and some Dropout regularisation"
   ]
  },
  {
   "cell_type": "code",
   "execution_count": 12,
   "id": "2b15271d",
   "metadata": {},
   "outputs": [],
   "source": [
    "regressor.add(LSTM(units = 100, return_sequences = True))\n",
    "regressor.add(Dropout(0.2))"
   ]
  },
  {
   "cell_type": "markdown",
   "id": "e02e7dfc",
   "metadata": {},
   "source": [
    "## Adding the fourth LSTM layer and some Dropout regularisation"
   ]
  },
  {
   "cell_type": "code",
   "execution_count": 13,
   "id": "0dffe541",
   "metadata": {},
   "outputs": [],
   "source": [
    "regressor.add(LSTM(units = 100, return_sequences = True))\n",
    "regressor.add(Dropout(0.2))"
   ]
  },
  {
   "cell_type": "markdown",
   "id": "726deb91",
   "metadata": {},
   "source": [
    "## Adding the fifth LSTM layer and some Dropout regularisation"
   ]
  },
  {
   "cell_type": "code",
   "execution_count": 14,
   "id": "3111bb81",
   "metadata": {},
   "outputs": [],
   "source": [
    "regressor.add(LSTM(units = 100))\n",
    "regressor.add(Dropout(0.2))"
   ]
  },
  {
   "cell_type": "markdown",
   "id": "4f8d349a",
   "metadata": {},
   "source": [
    "## Adding the output layer"
   ]
  },
  {
   "cell_type": "code",
   "execution_count": 15,
   "id": "df0f4f63",
   "metadata": {},
   "outputs": [],
   "source": [
    "regressor.add(Dense(units = 1))"
   ]
  },
  {
   "cell_type": "markdown",
   "id": "5a9f77c1",
   "metadata": {},
   "source": [
    "## Compiling the RNN"
   ]
  },
  {
   "cell_type": "code",
   "execution_count": 16,
   "id": "e916f431",
   "metadata": {},
   "outputs": [],
   "source": [
    "regressor.compile(optimizer = 'adam', loss = 'mean_squared_error')"
   ]
  },
  {
   "cell_type": "markdown",
   "id": "cdcb963a",
   "metadata": {},
   "source": [
    "## Fitting the RNN to the Training set"
   ]
  },
  {
   "cell_type": "code",
   "execution_count": 17,
   "id": "13d3deb8",
   "metadata": {},
   "outputs": [
    {
     "name": "stdout",
     "output_type": "stream",
     "text": [
      "Epoch 1/100\n",
      "76/76 [==============================] - 37s 367ms/step - loss: 0.0211\n",
      "Epoch 2/100\n",
      "76/76 [==============================] - 28s 371ms/step - loss: 0.0031\n",
      "Epoch 3/100\n",
      "76/76 [==============================] - 31s 413ms/step - loss: 0.0028\n",
      "Epoch 4/100\n",
      "76/76 [==============================] - 31s 404ms/step - loss: 0.0025\n",
      "Epoch 5/100\n",
      "76/76 [==============================] - 31s 410ms/step - loss: 0.0024\n",
      "Epoch 6/100\n",
      "76/76 [==============================] - 32s 416ms/step - loss: 0.0024\n",
      "Epoch 7/100\n",
      "76/76 [==============================] - 32s 421ms/step - loss: 0.0022\n",
      "Epoch 8/100\n",
      "76/76 [==============================] - 33s 428ms/step - loss: 0.0018\n",
      "Epoch 9/100\n",
      "76/76 [==============================] - 34s 444ms/step - loss: 0.0020\n",
      "Epoch 10/100\n",
      "76/76 [==============================] - 33s 434ms/step - loss: 0.0021\n",
      "Epoch 11/100\n",
      "76/76 [==============================] - 33s 438ms/step - loss: 0.0017\n",
      "Epoch 12/100\n",
      "76/76 [==============================] - 33s 439ms/step - loss: 0.0017\n",
      "Epoch 13/100\n",
      "76/76 [==============================] - 34s 441ms/step - loss: 0.0015\n",
      "Epoch 14/100\n",
      "76/76 [==============================] - 33s 439ms/step - loss: 0.0014\n",
      "Epoch 15/100\n",
      "76/76 [==============================] - 33s 439ms/step - loss: 0.0016\n",
      "Epoch 16/100\n",
      "76/76 [==============================] - 34s 444ms/step - loss: 0.0016\n",
      "Epoch 17/100\n",
      "76/76 [==============================] - 34s 444ms/step - loss: 0.0015\n",
      "Epoch 18/100\n",
      "76/76 [==============================] - 34s 443ms/step - loss: 0.0015\n",
      "Epoch 19/100\n",
      "76/76 [==============================] - 33s 440ms/step - loss: 0.0015\n",
      "Epoch 20/100\n",
      "76/76 [==============================] - 34s 443ms/step - loss: 0.0018\n",
      "Epoch 21/100\n",
      "76/76 [==============================] - 34s 443ms/step - loss: 0.0014\n",
      "Epoch 22/100\n",
      "76/76 [==============================] - 34s 446ms/step - loss: 0.0014\n",
      "Epoch 23/100\n",
      "76/76 [==============================] - 34s 444ms/step - loss: 0.0012\n",
      "Epoch 24/100\n",
      "76/76 [==============================] - 34s 441ms/step - loss: 0.0015\n",
      "Epoch 25/100\n",
      "76/76 [==============================] - 34s 441ms/step - loss: 0.0013\n",
      "Epoch 26/100\n",
      "76/76 [==============================] - 33s 435ms/step - loss: 0.0012\n",
      "Epoch 27/100\n",
      "76/76 [==============================] - 33s 435ms/step - loss: 0.0013\n",
      "Epoch 28/100\n",
      "76/76 [==============================] - 33s 432ms/step - loss: 0.0012\n",
      "Epoch 29/100\n",
      "76/76 [==============================] - 33s 434ms/step - loss: 0.0012\n",
      "Epoch 30/100\n",
      "76/76 [==============================] - 34s 445ms/step - loss: 0.0010\n",
      "Epoch 31/100\n",
      "76/76 [==============================] - 34s 450ms/step - loss: 0.0011\n",
      "Epoch 32/100\n",
      "76/76 [==============================] - 34s 440ms/step - loss: 0.0013\n",
      "Epoch 33/100\n",
      "76/76 [==============================] - 36s 469ms/step - loss: 0.0012\n",
      "Epoch 34/100\n",
      "76/76 [==============================] - 35s 455ms/step - loss: 0.0011\n",
      "Epoch 35/100\n",
      "76/76 [==============================] - 33s 438ms/step - loss: 0.0011\n",
      "Epoch 36/100\n",
      "76/76 [==============================] - 34s 454ms/step - loss: 0.0012\n",
      "Epoch 37/100\n",
      "76/76 [==============================] - 34s 446ms/step - loss: 0.0012\n",
      "Epoch 38/100\n",
      "76/76 [==============================] - 34s 452ms/step - loss: 0.0010\n",
      "Epoch 39/100\n",
      "76/76 [==============================] - 38s 498ms/step - loss: 0.0010\n",
      "Epoch 40/100\n",
      "76/76 [==============================] - 38s 496ms/step - loss: 0.0010\n",
      "Epoch 41/100\n",
      "76/76 [==============================] - 36s 474ms/step - loss: 9.8879e-04\n",
      "Epoch 42/100\n",
      "76/76 [==============================] - 34s 451ms/step - loss: 9.5666e-04\n",
      "Epoch 43/100\n",
      "76/76 [==============================] - 36s 468ms/step - loss: 0.0010\n",
      "Epoch 44/100\n",
      "76/76 [==============================] - 34s 448ms/step - loss: 0.0010\n",
      "Epoch 45/100\n",
      "76/76 [==============================] - 34s 451ms/step - loss: 8.9190e-04\n",
      "Epoch 46/100\n",
      "76/76 [==============================] - 35s 459ms/step - loss: 9.7412e-04\n",
      "Epoch 47/100\n",
      "76/76 [==============================] - 34s 447ms/step - loss: 8.8454e-04\n",
      "Epoch 48/100\n",
      "76/76 [==============================] - 34s 453ms/step - loss: 8.9281e-04\n",
      "Epoch 49/100\n",
      "76/76 [==============================] - 34s 448ms/step - loss: 8.4512e-04\n",
      "Epoch 50/100\n",
      "76/76 [==============================] - 34s 442ms/step - loss: 0.0011\n",
      "Epoch 51/100\n",
      "76/76 [==============================] - 34s 446ms/step - loss: 0.0010\n",
      "Epoch 52/100\n",
      "76/76 [==============================] - 34s 443ms/step - loss: 8.6950e-04\n",
      "Epoch 53/100\n",
      "76/76 [==============================] - 34s 443ms/step - loss: 9.7941e-04\n",
      "Epoch 54/100\n",
      "76/76 [==============================] - 34s 444ms/step - loss: 7.9762e-04\n",
      "Epoch 55/100\n",
      "76/76 [==============================] - 34s 443ms/step - loss: 7.9483e-04\n",
      "Epoch 56/100\n",
      "76/76 [==============================] - 34s 444ms/step - loss: 7.9646e-04\n",
      "Epoch 57/100\n",
      "76/76 [==============================] - 34s 445ms/step - loss: 7.8500e-04\n",
      "Epoch 58/100\n",
      "76/76 [==============================] - 34s 442ms/step - loss: 9.6149e-04\n",
      "Epoch 59/100\n",
      "76/76 [==============================] - 34s 441ms/step - loss: 9.1145e-04\n",
      "Epoch 60/100\n",
      "76/76 [==============================] - 33s 440ms/step - loss: 7.6416e-04\n",
      "Epoch 61/100\n",
      "76/76 [==============================] - 34s 442ms/step - loss: 7.6116e-04\n",
      "Epoch 62/100\n",
      "76/76 [==============================] - 34s 446ms/step - loss: 7.5807e-04\n",
      "Epoch 63/100\n",
      "76/76 [==============================] - 37s 491ms/step - loss: 7.1642e-04\n",
      "Epoch 64/100\n",
      "76/76 [==============================] - 36s 473ms/step - loss: 8.8105e-04\n",
      "Epoch 65/100\n",
      "76/76 [==============================] - 34s 447ms/step - loss: 7.4478e-04\n",
      "Epoch 66/100\n",
      "76/76 [==============================] - 34s 446ms/step - loss: 7.4654e-04\n",
      "Epoch 67/100\n",
      "76/76 [==============================] - 34s 449ms/step - loss: 7.5663e-04\n",
      "Epoch 68/100\n",
      "76/76 [==============================] - 34s 443ms/step - loss: 7.4383e-04\n",
      "Epoch 69/100\n",
      "76/76 [==============================] - 34s 442ms/step - loss: 6.9756e-04\n",
      "Epoch 70/100\n",
      "76/76 [==============================] - 34s 441ms/step - loss: 7.4036e-04\n",
      "Epoch 71/100\n",
      "76/76 [==============================] - 35s 467ms/step - loss: 7.9129e-04\n",
      "Epoch 72/100\n",
      "76/76 [==============================] - 35s 461ms/step - loss: 6.4258e-04\n",
      "Epoch 73/100\n",
      "76/76 [==============================] - 35s 463ms/step - loss: 6.7945e-04\n",
      "Epoch 74/100\n",
      "76/76 [==============================] - 35s 455ms/step - loss: 7.4355e-04\n",
      "Epoch 75/100\n",
      "76/76 [==============================] - 34s 447ms/step - loss: 7.0503e-04\n",
      "Epoch 76/100\n",
      "76/76 [==============================] - 33s 440ms/step - loss: 6.9709e-04\n",
      "Epoch 77/100\n",
      "76/76 [==============================] - 34s 442ms/step - loss: 7.4755e-04\n",
      "Epoch 78/100\n",
      "76/76 [==============================] - 34s 444ms/step - loss: 6.4274e-04\n",
      "Epoch 79/100\n",
      "76/76 [==============================] - 35s 462ms/step - loss: 6.6092e-04\n",
      "Epoch 80/100\n",
      "76/76 [==============================] - 36s 472ms/step - loss: 6.9113e-04\n",
      "Epoch 81/100\n",
      "76/76 [==============================] - 35s 457ms/step - loss: 6.7105e-04\n",
      "Epoch 82/100\n",
      "76/76 [==============================] - 35s 455ms/step - loss: 8.4527e-04\n",
      "Epoch 83/100\n",
      "76/76 [==============================] - 34s 441ms/step - loss: 7.4013e-04\n",
      "Epoch 84/100\n",
      "76/76 [==============================] - 34s 441ms/step - loss: 8.6004e-04\n",
      "Epoch 85/100\n",
      "76/76 [==============================] - 34s 443ms/step - loss: 7.1106e-04\n",
      "Epoch 86/100\n",
      "76/76 [==============================] - 34s 448ms/step - loss: 6.4180e-04\n",
      "Epoch 87/100\n",
      "76/76 [==============================] - 34s 453ms/step - loss: 7.1896e-04\n",
      "Epoch 88/100\n",
      "76/76 [==============================] - 34s 442ms/step - loss: 7.7075e-04\n",
      "Epoch 89/100\n",
      "76/76 [==============================] - 33s 440ms/step - loss: 5.8978e-04\n",
      "Epoch 90/100\n",
      "76/76 [==============================] - 34s 446ms/step - loss: 6.6923e-04\n",
      "Epoch 91/100\n",
      "76/76 [==============================] - 34s 445ms/step - loss: 7.6355e-04\n",
      "Epoch 92/100\n",
      "76/76 [==============================] - 34s 441ms/step - loss: 6.0889e-04\n",
      "Epoch 93/100\n",
      "76/76 [==============================] - 34s 441ms/step - loss: 6.5776e-04\n",
      "Epoch 94/100\n",
      "76/76 [==============================] - 34s 443ms/step - loss: 6.7661e-04\n",
      "Epoch 95/100\n",
      "76/76 [==============================] - 34s 448ms/step - loss: 5.6068e-04\n",
      "Epoch 96/100\n"
     ]
    },
    {
     "name": "stdout",
     "output_type": "stream",
     "text": [
      "76/76 [==============================] - 34s 443ms/step - loss: 5.9731e-04\n",
      "Epoch 97/100\n",
      "76/76 [==============================] - 33s 437ms/step - loss: 6.6629e-04\n",
      "Epoch 98/100\n",
      "76/76 [==============================] - 34s 450ms/step - loss: 6.1429e-04\n",
      "Epoch 99/100\n",
      "76/76 [==============================] - 34s 442ms/step - loss: 5.9688e-04\n",
      "Epoch 100/100\n",
      "76/76 [==============================] - 34s 442ms/step - loss: 5.6608e-04\n"
     ]
    },
    {
     "data": {
      "text/plain": [
       "<keras.callbacks.History at 0x19add4d9210>"
      ]
     },
     "execution_count": 17,
     "metadata": {},
     "output_type": "execute_result"
    }
   ],
   "source": [
    "regressor.fit(X_train, y_train, epochs = 100, batch_size = 32)"
   ]
  },
  {
   "cell_type": "markdown",
   "id": "455bec77",
   "metadata": {},
   "source": [
    "## Part 3 - Making the predictions and visualising the results"
   ]
  },
  {
   "cell_type": "markdown",
   "id": "b1536edb",
   "metadata": {},
   "source": [
    "## Getting the real stock price of july 2022"
   ]
  },
  {
   "cell_type": "code",
   "execution_count": 18,
   "id": "17c9bd62",
   "metadata": {},
   "outputs": [],
   "source": [
    "dataset_test = pd.read_csv('META_TESTING_DATA.csv')\n",
    "real_stock_price = dataset_test.iloc[:, 1:2].values"
   ]
  },
  {
   "cell_type": "markdown",
   "id": "e183d5c3",
   "metadata": {},
   "source": [
    "## Getting the predicted stock price of july 2022"
   ]
  },
  {
   "cell_type": "code",
   "execution_count": 26,
   "id": "15b8cced",
   "metadata": {},
   "outputs": [
    {
     "name": "stdout",
     "output_type": "stream",
     "text": [
      "1/1 [==============================] - 0s 101ms/step\n"
     ]
    }
   ],
   "source": [
    "dataset_total = pd.concat((dataset_train['Open'], dataset_test['Open']), axis = 0)\n",
    "inputs = dataset_total[len(dataset_total) - len(dataset_test) - 120:].values\n",
    "inputs = inputs.reshape(-1,1)\n",
    "inputs = sc.transform(inputs)\n",
    "X_test = []\n",
    "for i in range(120, 140):\n",
    "    X_test.append(inputs[i-120:i, 0])\n",
    "X_test = np.array(X_test)\n",
    "X_test = np.reshape(X_test, (X_test.shape[0], X_test.shape[1], 1))\n",
    "predicted_stock_price = regressor.predict(X_test)\n",
    "predicted_stock_price = sc.inverse_transform(predicted_stock_price)"
   ]
  },
  {
   "cell_type": "markdown",
   "id": "30dc630f",
   "metadata": {},
   "source": [
    "## Visualising the results"
   ]
  },
  {
   "cell_type": "code",
   "execution_count": 47,
   "id": "82bb06e9",
   "metadata": {},
   "outputs": [
    {
     "data": {
      "image/png": "[encoded data removed]",
      "text/plain": [
       "<Figure size 640x480 with 1 Axes>"
      ]
     },
     "metadata": {},
     "output_type": "display_data"
    }
   ],
   "source": [
    "plt.plot(real_stock_price, color = 'red', label = 'Real Meta Stock Price')\n",
    "plt.plot(predicted_stock_price, color = 'blue', label = 'Predicted Meta Stock Price')\n",
    "plt.title('Meta Stock Price Prediction',fontsize=15)\n",
    "plt.xlabel('Time')\n",
    "plt.grid()\n",
    "\n",
    "plt.ylabel('Meta Stock Price')\n",
    "plt.legend()\n",
    "plt.show()"
   ]
  },
  {
   "cell_type": "markdown",
   "id": "862633d0",
   "metadata": {},
   "source": [
    "## Observations"
   ]
  },
  {
   "cell_type": "markdown",
   "id": "921ae421",
   "metadata": {},
   "source": [
    "### To be very honest it is exactly impossible to predict the future stock prices otherwise we would all become billonaries but it is possible to predict the patterns that we have predicted. we have predicted the upward and downward trends that exist in the meta stock price"
   ]
  },
  {
   "cell_type": "markdown",
   "id": "e9e86c92",
   "metadata": {},
   "source": [
    "### In or around 7.5 to 11 days price of the shares may be less then it means we can purchase more number of shares from the stockbroker and between 12.5 to 16 when the price of shares will increase then we will sell them to earn more profit"
   ]
  },
  {
   "cell_type": "markdown",
   "id": "3e14753f",
   "metadata": {},
   "source": [
    "### We have big spike like a stock time singularity and our predictions did not follow that but that is completely normal our model just lags behind because it cannot react  fast to non-linear changes and according to the Brownian motion mathematical concept in financial engineering the future variations of the stock price are independent from the past and the good news is that our model reacts very okay to the smooth changes and one more Good news is that we have predicted almost the same pattern as in the real stock price as both of them are forming 'M' like structure."
   ]
  },
  {
   "cell_type": "code",
   "execution_count": null,
   "id": "8d220d93",
   "metadata": {},
   "outputs": [],
   "source": []
  },
  {
   "cell_type": "code",
   "execution_count": null,
   "id": "9c959703",
   "metadata": {},
   "outputs": [],
   "source": []
  }
 ],
 "metadata": {
  "kernelspec": {
   "display_name": "Python 3 (ipykernel)",
   "language": "python",
   "name": "python3"
  },
  "language_info": {
   "codemirror_mode": {
    "name": "ipython",
    "version": 3
   },
   "file_extension": ".py",
   "mimetype": "text/x-python",
   "name": "python",
   "nbconvert_exporter": "python",
   "pygments_lexer": "ipython3",
   "version": "3.10.4"
  }
 },
 "nbformat": 4,
 "nbformat_minor": 5
}
